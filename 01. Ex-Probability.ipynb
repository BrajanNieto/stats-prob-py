{
  "nbformat": 4,
  "nbformat_minor": 0,
  "metadata": {
    "colab": {
      "provenance": [],
      "authorship_tag": "ABX9TyMFM+rtAdK+57sMb22iggSV",
      "include_colab_link": true
    },
    "kernelspec": {
      "name": "python3",
      "display_name": "Python 3"
    },
    "language_info": {
      "name": "python"
    }
  },
  "cells": [
    {
      "cell_type": "markdown",
      "metadata": {
        "id": "view-in-github",
        "colab_type": "text"
      },
      "source": [
        "<a href=\"https://colab.research.google.com/github/BrajanNieto/stats-prob-py/blob/main/01.%20Ex-Probability.ipynb\" target=\"_parent\"><img src=\"https://colab.research.google.com/assets/colab-badge.svg\" alt=\"Open In Colab\"/></a>"
      ]
    },
    {
      "cell_type": "markdown",
      "source": [
        "# **Probability Concepts - Exercises in Python**\n",
        "\n",
        "---\n",
        "\n",
        "This script includes exercises and practical implementations of key probability concepts using Python. It is designed to help reinforce theoretical knowledge through hands-on coding examples.\n",
        "\n",
        "**Topics Covered:**  \n",
        "\n",
        "* **Fundamental Probability Rules**: Addition and Multiplication rules, Conditional probability, and Bayes' theorem.  \n",
        "* **Discrete and Continuous Distributions**: Binomial, Poisson, Normal, and others.  \n",
        "* **Random Variables and Simulations**: Monte Carlo methods and more.  \n",
        "\n",
        "**Author:**  \n",
        "Bach. Brajan Esteban Nieto Espinoza  \n",
        "[brajan.nieto@utec.edu.pe](mailto:brajan.nieto@utec.edu.pe)\n",
        "\n",
        "---"
      ],
      "metadata": {
        "id": "W9GnRVOIAe-c"
      }
    },
    {
      "cell_type": "code",
      "source": [
        "#lib\n",
        "import numpy as np"
      ],
      "metadata": {
        "id": "698cigozFCJO"
      },
      "execution_count": 1,
      "outputs": []
    },
    {
      "cell_type": "markdown",
      "source": [
        "## Ex 1:\n",
        "Three people enter an elevator on the first floor of a building with 10 floors. Each person is equally likely to choose any floor from 2 to 10 (independently). What is the probability that all three people want to go to consecutive floors?\n"
      ],
      "metadata": {
        "id": "ZMK-B7vqAynP"
      }
    },
    {
      "cell_type": "code",
      "execution_count": null,
      "metadata": {
        "id": "KGtnDB_x_7vP",
        "outputId": "e854ff58-7bf6-4ed9-c396-da27ad36802e",
        "colab": {
          "base_uri": "https://localhost:8080/"
        }
      },
      "outputs": [
        {
          "output_type": "execute_result",
          "data": {
            "text/plain": [
              "array([7, 7, 6])"
            ]
          },
          "metadata": {},
          "execution_count": 17
        }
      ],
      "source": [
        "np.random.randint(2,11,3)"
      ]
    },
    {
      "cell_type": "code",
      "source": [
        "np.random.seed(100)\n",
        "n_simulaciones = 10_000_000\n",
        "\n",
        "\n",
        "resultados = np.random.randint(2, 11, (n_simulaciones, 3))\n",
        "ordenados = np.sort(resultados, axis=1)\n",
        "es_consecutivo = (ordenados[:, 1] - ordenados[:, 0] == 1) & (ordenados[:, 2] - ordenados[:, 1] == 1)\n",
        "probabilidad = np.sum(es_consecutivo) / n_simulaciones\n",
        "\n",
        "# Resultado\n",
        "print(f\"La probabilidad de que las 3 personas elijan pisos consecutivos es: {probabilidad:.6f}\")\n"
      ],
      "metadata": {
        "id": "BqlAkk_9JCR_",
        "outputId": "afdc852d-e2cc-4c89-a35a-1baa56d683f7",
        "colab": {
          "base_uri": "https://localhost:8080/"
        }
      },
      "execution_count": null,
      "outputs": [
        {
          "output_type": "stream",
          "name": "stdout",
          "text": [
            "La probabilidad de que las 3 personas elijan pisos consecutivos es: 0.057647\n"
          ]
        }
      ]
    },
    {
      "cell_type": "markdown",
      "source": [
        "\n",
        "#### Solution  \n",
        "\n",
        "#### 1. Sample Space:  \n",
        "Each person has 9 possible choices (floors 2 to 10).  \n",
        "For three people, the total number of combinations is:  \n",
        "$9^3 = 729$\n",
        "\n",
        "#### 2. Favorable Outcomes:  \n",
        "To have consecutive floors, the chosen floors can be represented as \\([x, x+1, x+2]\\), where \\(x\\) is the smallest floor:  \n",
        "- $x$ can take values from $2$ to $8$ (as $x+2 \\leq 10$).\n",
        "- For each \\(x\\), the three people can arrive at the floors in any order. There are \\(3! = 6\\) permutations for each set of consecutive floors.\n",
        "\n",
        "Thus, the total number of favorable outcomes is:  \n",
        "7 * 6 = 42\n",
        "\n",
        "#### 3. Probability:  \n",
        "The probability is the ratio of favorable outcomes to the total sample space:  \n",
        "$P = \\frac{\\text{Favorable Outcomes}}{\\text{Sample Space}} = \\frac{42}{729} = \\frac{14}{243} \\approx 0.0576$"
      ],
      "metadata": {
        "id": "fgBWeHgHEQhc"
      }
    },
    {
      "cell_type": "markdown",
      "source": [
        "## Ex 2:"
      ],
      "metadata": {
        "id": "HEIdRL4yWm14"
      }
    },
    {
      "cell_type": "code",
      "source": [
        "import random\n",
        "\n",
        "# Definir la urna con las bolas: 'R' representa roja, 'A' representa azul\n",
        "urna = ['R', 'R', 'R', 'A']\n",
        "\n",
        "# Número de simulaciones\n",
        "n_simulaciones = 100000\n",
        "\n",
        "# Contadores\n",
        "total_veces_primera_roja = 0\n",
        "total_veces_segunda_roja = 0\n",
        "\n",
        "for _ in range(n_simulaciones):\n",
        "    # Extraer dos bolas sin reemplazo\n",
        "    seleccionadas = random.sample(urna, 2)\n",
        "\n",
        "    # Contar casos\n",
        "    if seleccionadas[0] == 'R':\n",
        "        total_veces_primera_roja += 1\n",
        "        if seleccionadas[1] == 'R':\n",
        "            total_veces_segunda_roja += 1\n",
        "\n",
        "# Calcular probabilidades\n",
        "prob_primera_roja = total_veces_primera_roja / n_simulaciones\n",
        "prob_segunda_roja_dado_primera_roja = total_veces_segunda_roja / total_veces_primera_roja\n",
        "\n",
        "# Mostrar resultados\n",
        "print(f\"Probabilidad de que la primera bola sea roja: {prob_primera_roja:.5f}\")\n",
        "print(f\"Probabilidad de que la segunda bola sea roja dado que la primera fue roja: {prob_segunda_roja_dado_primera_roja:.5f}\")\n"
      ],
      "metadata": {
        "id": "HQl_OX4jEPOD",
        "outputId": "399cff51-1835-435b-ce06-896921ce2842",
        "colab": {
          "base_uri": "https://localhost:8080/"
        }
      },
      "execution_count": 2,
      "outputs": [
        {
          "output_type": "stream",
          "name": "stdout",
          "text": [
            "Probabilidad de que la primera bola sea roja: 0.74975\n",
            "Probabilidad de que la segunda bola sea roja dado que la primera fue roja: 0.66438\n"
          ]
        }
      ]
    },
    {
      "cell_type": "markdown",
      "source": [
        "# Variables aleatorias discretas"
      ],
      "metadata": {
        "id": "9tzUl7VjEoTy"
      }
    },
    {
      "cell_type": "markdown",
      "source": [
        "## **Distribución binomial**\n",
        "\n",
        " $X$ tiene distribución binomial con parámetros $n$ y $p$ si\n",
        "\n",
        " $$P(X=k)= \\binom{n}{k} p^{k}(1-p)^{n-k}$$\n",
        "\n",
        " para $k=0, \\dots, n$."
      ],
      "metadata": {
        "id": "BnrFIc_MF4im"
      }
    },
    {
      "cell_type": "code",
      "source": [
        "from scipy.stats import binom"
      ],
      "metadata": {
        "id": "_BwgPZARF8nB"
      },
      "execution_count": 1,
      "outputs": []
    },
    {
      "cell_type": "markdown",
      "source": [
        "Los valores de la distribución son dados por el método pmf (*probability mass function*)\n"
      ],
      "metadata": {
        "id": "KlFRrqBlF_GS"
      }
    },
    {
      "cell_type": "code",
      "source": [
        "n=5\n",
        "p=0.1\n",
        "k=3\n",
        "binom.pmf(k, n, p)"
      ],
      "metadata": {
        "id": "SZi9OhSNGAvl",
        "outputId": "cb60a44d-3c2d-4d62-c7c6-b199ef8d8a51",
        "colab": {
          "base_uri": "https://localhost:8080/"
        }
      },
      "execution_count": 2,
      "outputs": [
        {
          "output_type": "execute_result",
          "data": {
            "text/plain": [
              "0.0081"
            ]
          },
          "metadata": {},
          "execution_count": 2
        }
      ]
    },
    {
      "cell_type": "markdown",
      "source": [
        "Gráfica de la distribución"
      ],
      "metadata": {
        "id": "x2ET1SAXGFgy"
      }
    },
    {
      "cell_type": "code",
      "source": [
        "import matplotlib.pyplot as plt\n",
        "import numpy as np\n",
        "n=40\n",
        "p=0.75\n",
        "plt.bar( np.arange(n+1),binom.pmf(np.arange(n+1), n, p))\n",
        "plt.show()"
      ],
      "metadata": {
        "id": "n4WJNMD_GEPB",
        "outputId": "6e30bf17-669d-44c7-f945-24b6b7cca1c5",
        "colab": {
          "base_uri": "https://localhost:8080/",
          "height": 430
        }
      },
      "execution_count": 3,
      "outputs": [
        {
          "output_type": "display_data",
          "data": {
            "text/plain": [
              "<Figure size 640x480 with 1 Axes>"
            ],
            "image/png": "[encoded data removed]"
          },
          "metadata": {}
        }
      ]
    },
    {
      "cell_type": "markdown",
      "source": [
        "La distribución acumulada se calcula con el método cdf (cumulative density function)"
      ],
      "metadata": {
        "id": "22SVSKbxGNOd"
      }
    },
    {
      "cell_type": "code",
      "source": [
        "n=5\n",
        "p=0.5\n",
        "plt.bar( np.arange(n+1),binom.cdf(np.arange(n+1), n, p))\n",
        "plt.show()"
      ],
      "metadata": {
        "id": "O_zM6CuWGNtS",
        "outputId": "d43a96ea-eeb9-4a9e-f35b-d75c0b5f5d6d",
        "colab": {
          "base_uri": "https://localhost:8080/",
          "height": 430
        }
      },
      "execution_count": 4,
      "outputs": [
        {
          "output_type": "display_data",
          "data": {
            "text/plain": [
              "<Figure size 640x480 with 1 Axes>"
            ],
            "image/png": "[encoded data removed]"
          },
          "metadata": {}
        }
      ]
    },
    {
      "cell_type": "markdown",
      "source": [
        "Data simulada y su histograma. Notemos que es consistente con la distribución."
      ],
      "metadata": {
        "id": "o9yhpRl0G-vI"
      }
    },
    {
      "cell_type": "code",
      "source": [
        "n=5\n",
        "p=0.5\n",
        "binom.rvs(n,  p, size=100)"
      ],
      "metadata": {
        "id": "2Tr8tiO3HE97",
        "outputId": "f37521b9-baf4-45e2-f2b0-073d8b875e7b",
        "colab": {
          "base_uri": "https://localhost:8080/"
        }
      },
      "execution_count": 7,
      "outputs": [
        {
          "output_type": "execute_result",
          "data": {
            "text/plain": [
              "array([2, 2, 4, 1, 0, 1, 1, 4, 2, 4, 3, 1, 3, 3, 3, 3, 2, 4, 3, 2, 4, 2,\n",
              "       2, 3, 1, 3, 1, 3, 3, 4, 4, 3, 2, 2, 3, 3, 3, 3, 3, 3, 3, 3, 4, 1,\n",
              "       4, 4, 2, 2, 3, 3, 4, 2, 3, 2, 5, 0, 0, 0, 0, 3, 2, 4, 2, 4, 2, 2,\n",
              "       1, 4, 0, 3, 2, 2, 2, 3, 4, 2, 2, 3, 5, 2, 2, 3, 1, 4, 3, 2, 2, 3,\n",
              "       4, 2, 2, 4, 2, 2, 4, 4, 0, 3, 4, 1])"
            ]
          },
          "metadata": {},
          "execution_count": 7
        }
      ]
    },
    {
      "cell_type": "markdown",
      "source": [],
      "metadata": {
        "id": "wy-_zSrQHEp1"
      }
    },
    {
      "cell_type": "code",
      "source": [
        "n=5\n",
        "p=0.5\n",
        "plt.hist(binom.rvs(n, p, size=1000), bins=np.arange(-0.5, 6.5, 1), density=True), #false cuenta true brinda probabilidades\n",
        "plt.show()"
      ],
      "metadata": {
        "id": "Euh0v5ziHF-M",
        "outputId": "a932640e-889c-4457-b7da-231a4f5ac83d",
        "colab": {
          "base_uri": "https://localhost:8080/",
          "height": 430
        }
      },
      "execution_count": 6,
      "outputs": [
        {
          "output_type": "display_data",
          "data": {
            "text/plain": [
              "<Figure size 640x480 with 1 Axes>"
            ],
            "image/png": "[encoded data removed]"
          },
          "metadata": {}
        }
      ]
    },
    {
      "cell_type": "markdown",
      "source": [
        "## **Ejercicio 1:**\n",
        "Se muestra un aviso online a $40$ personas. La probabilidad de que alguien haga click en el aviso es de $0.75$. Halle la probabilidad de los siguientes eventos.\n",
        "\n",
        "a) exactamente $20$ personas hagan click.\n",
        "\n",
        "b) a lo más $20$ personas hacen click.\n",
        "\n",
        "c) al menos $20$ personas hacen click."
      ],
      "metadata": {
        "id": "sE--6Ln_Kuxt"
      }
    },
    {
      "cell_type": "code",
      "source": [
        "import matplotlib.pyplot as plt\n",
        "import numpy as np\n",
        "n=40\n",
        "p=0.75\n",
        "plt.bar( np.arange(n+1),binom.pmf(np.arange(n+1), n, p))\n",
        "plt.show()"
      ],
      "metadata": {
        "id": "tS6lp1MJLH71",
        "outputId": "c83dd979-3e6c-441e-83aa-fb22ee88189b",
        "colab": {
          "base_uri": "https://localhost:8080/",
          "height": 430
        }
      },
      "execution_count": 8,
      "outputs": [
        {
          "output_type": "display_data",
          "data": {
            "text/plain": [
              "<Figure size 640x480 with 1 Axes>"
            ],
            "image/png": "[encoded data removed]"
          },
          "metadata": {}
        }
      ]
    },
    {
      "cell_type": "code",
      "source": [
        "n=40\n",
        "p=0.75\n",
        "binom.pmf(20, n, p)"
      ],
      "metadata": {
        "id": "dpmtdBrxKGda",
        "outputId": "77eb0788-695b-47be-938c-46f2d79e06e7",
        "colab": {
          "base_uri": "https://localhost:8080/"
        }
      },
      "execution_count": 9,
      "outputs": [
        {
          "output_type": "execute_result",
          "data": {
            "text/plain": [
              "0.00039757702137157343"
            ]
          },
          "metadata": {},
          "execution_count": 9
        }
      ]
    },
    {
      "cell_type": "code",
      "source": [
        "binom.cdf(20, n, p)"
      ],
      "metadata": {
        "id": "N0Q25sTWKHjr",
        "outputId": "997165b9-4b1f-403c-9df4-c4ad21f804ba",
        "colab": {
          "base_uri": "https://localhost:8080/"
        }
      },
      "execution_count": 10,
      "outputs": [
        {
          "output_type": "execute_result",
          "data": {
            "text/plain": [
              "0.0005724311071761386"
            ]
          },
          "metadata": {},
          "execution_count": 10
        }
      ]
    },
    {
      "cell_type": "code",
      "source": [
        "1-binom.cdf(19, n, p)"
      ],
      "metadata": {
        "id": "JmsOXN-EK0f4",
        "outputId": "0baef217-5706-4284-dcc8-142033d99b52",
        "colab": {
          "base_uri": "https://localhost:8080/"
        }
      },
      "execution_count": 11,
      "outputs": [
        {
          "output_type": "execute_result",
          "data": {
            "text/plain": [
              "0.9998251459141955"
            ]
          },
          "metadata": {},
          "execution_count": 11
        }
      ]
    }
  ]
}