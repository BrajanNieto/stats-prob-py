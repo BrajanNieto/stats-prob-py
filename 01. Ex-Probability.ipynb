{
  "nbformat": 4,
  "nbformat_minor": 0,
  "metadata": {
    "colab": {
      "provenance": [],
      "authorship_tag": "ABX9TyMpJ4qsh0DlBCG9IuFds0Jx",
      "include_colab_link": true
    },
    "kernelspec": {
      "name": "python3",
      "display_name": "Python 3"
    },
    "language_info": {
      "name": "python"
    }
  },
  "cells": [
    {
      "cell_type": "markdown",
      "metadata": {
        "id": "view-in-github",
        "colab_type": "text"
      },
      "source": [
        "<a href=\"https://colab.research.google.com/github/BrajanNieto/stats-prob-py/blob/main/01.%20Ex-Probability.ipynb\" target=\"_parent\"><img src=\"https://colab.research.google.com/assets/colab-badge.svg\" alt=\"Open In Colab\"/></a>"
      ]
    },
    {
      "cell_type": "markdown",
      "source": [
        "# **Probability Concepts - Exercises in Python**\n",
        "\n",
        "---\n",
        "\n",
        "This script includes exercises and practical implementations of key probability concepts using Python. It is designed to help reinforce theoretical knowledge through hands-on coding examples.\n",
        "\n",
        "**Topics Covered:**  \n",
        "\n",
        "* **Fundamental Probability Rules**: Addition and Multiplication rules, Conditional probability, and Bayes' theorem.  \n",
        "* **Discrete and Continuous Distributions**: Binomial, Poisson, Normal, and others.  \n",
        "* **Random Variables and Simulations**: Monte Carlo methods and more.  \n",
        "\n",
        "**Author:**  \n",
        "Bach. Brajan Esteban Nieto Espinoza  \n",
        "[brajan.nieto@utec.edu.pe](mailto:brajan.nieto@utec.edu.pe)\n",
        "\n",
        "---"
      ],
      "metadata": {
        "id": "W9GnRVOIAe-c"
      }
    },
    {
      "cell_type": "code",
      "source": [
        "#lib\n",
        "import numpy as np"
      ],
      "metadata": {
        "id": "698cigozFCJO"
      },
      "execution_count": 1,
      "outputs": []
    },
    {
      "cell_type": "markdown",
      "source": [
        "Three people enter an elevator on the first floor of a building with 10 floors. Each person is equally likely to choose any floor from 2 to 10 (independently). What is the probability that all three people want to go to consecutive floors?\n"
      ],
      "metadata": {
        "id": "ZMK-B7vqAynP"
      }
    },
    {
      "cell_type": "code",
      "execution_count": 17,
      "metadata": {
        "id": "KGtnDB_x_7vP",
        "outputId": "e854ff58-7bf6-4ed9-c396-da27ad36802e",
        "colab": {
          "base_uri": "https://localhost:8080/"
        }
      },
      "outputs": [
        {
          "output_type": "execute_result",
          "data": {
            "text/plain": [
              "array([7, 7, 6])"
            ]
          },
          "metadata": {},
          "execution_count": 17
        }
      ],
      "source": [
        "np.random.randint(2,11,3)"
      ]
    },
    {
      "cell_type": "code",
      "source": [
        "np.random.seed(100)\n",
        "n_simulaciones = 10_000_000\n",
        "\n",
        "\n",
        "resultados = np.random.randint(2, 11, (n_simulaciones, 3))\n",
        "ordenados = np.sort(resultados, axis=1)\n",
        "es_consecutivo = (ordenados[:, 1] - ordenados[:, 0] == 1) & (ordenados[:, 2] - ordenados[:, 1] == 1)\n",
        "probabilidad = np.sum(es_consecutivo) / n_simulaciones\n",
        "\n",
        "# Resultado\n",
        "print(f\"La probabilidad de que las 3 personas elijan pisos consecutivos es: {probabilidad:.6f}\")\n"
      ],
      "metadata": {
        "id": "BqlAkk_9JCR_",
        "outputId": "afdc852d-e2cc-4c89-a35a-1baa56d683f7",
        "colab": {
          "base_uri": "https://localhost:8080/"
        }
      },
      "execution_count": 32,
      "outputs": [
        {
          "output_type": "stream",
          "name": "stdout",
          "text": [
            "La probabilidad de que las 3 personas elijan pisos consecutivos es: 0.057647\n"
          ]
        }
      ]
    },
    {
      "cell_type": "markdown",
      "source": [
        "\n",
        "### Solution  \n",
        "\n",
        "#### 1. Sample Space:  \n",
        "Each person has 9 possible choices (floors 2 to 10).  \n",
        "For three people, the total number of combinations is:  \n",
        "$9^3 = 729$\n",
        "\n",
        "#### 2. Favorable Outcomes:  \n",
        "To have consecutive floors, the chosen floors can be represented as \\([x, x+1, x+2]\\), where \\(x\\) is the smallest floor:  \n",
        "- $x$ can take values from $2$ to $8$ (as $x+2 \\leq 10$).\n",
        "- For each \\(x\\), the three people can arrive at the floors in any order. There are \\(3! = 6\\) permutations for each set of consecutive floors.\n",
        "\n",
        "Thus, the total number of favorable outcomes is:  \n",
        "7 * 6 = 42\n",
        "\n",
        "#### 3. Probability:  \n",
        "The probability is the ratio of favorable outcomes to the total sample space:  \n",
        "$P = \\frac{\\text{Favorable Outcomes}}{\\text{Sample Space}} = \\frac{42}{729} = \\frac{14}{243} \\approx 0.0576$"
      ],
      "metadata": {
        "id": "fgBWeHgHEQhc"
      }
    },
    {
      "cell_type": "code",
      "source": [],
      "metadata": {
        "id": "HQl_OX4jEPOD"
      },
      "execution_count": null,
      "outputs": []
    },
    {
      "cell_type": "markdown",
      "source": [],
      "metadata": {
        "id": "9tzUl7VjEoTy"
      }
    }
  ]
}